{
 "cells": [
  {
   "cell_type": "code",
   "execution_count": 1,
   "id": "4b42ee64",
   "metadata": {},
   "outputs": [
    {
     "name": "stdout",
     "output_type": "stream",
     "text": [
      "Requirement already satisfied: ipython in c:\\users\\david\\anaconda3\\envs\\clase\\lib\\site-packages (7.34.0)\n",
      "Requirement already satisfied: backcall in c:\\users\\david\\anaconda3\\envs\\clase\\lib\\site-packages (from ipython) (0.2.0)\n",
      "Requirement already satisfied: matplotlib-inline in c:\\users\\david\\anaconda3\\envs\\clase\\lib\\site-packages (from ipython) (0.1.6)\n",
      "Requirement already satisfied: pygments in c:\\users\\david\\anaconda3\\envs\\clase\\lib\\site-packages (from ipython) (2.13.0)\n",
      "Requirement already satisfied: setuptools>=18.5 in c:\\users\\david\\anaconda3\\envs\\clase\\lib\\site-packages (from ipython) (63.4.1)\n",
      "Requirement already satisfied: jedi>=0.16 in c:\\users\\david\\anaconda3\\envs\\clase\\lib\\site-packages (from ipython) (0.18.1)\n",
      "Requirement already satisfied: pickleshare in c:\\users\\david\\anaconda3\\envs\\clase\\lib\\site-packages (from ipython) (0.7.5)\n",
      "Requirement already satisfied: colorama in c:\\users\\david\\anaconda3\\envs\\clase\\lib\\site-packages (from ipython) (0.4.5)\n",
      "Requirement already satisfied: traitlets>=4.2 in c:\\users\\david\\anaconda3\\envs\\clase\\lib\\site-packages (from ipython) (5.4.0)\n",
      "Requirement already satisfied: decorator in c:\\users\\david\\anaconda3\\envs\\clase\\lib\\site-packages (from ipython) (5.1.1)\n",
      "Requirement already satisfied: prompt-toolkit!=3.0.0,!=3.0.1,<3.1.0,>=2.0.0 in c:\\users\\david\\anaconda3\\envs\\clase\\lib\\site-packages (from ipython) (3.0.31)\n",
      "Requirement already satisfied: parso<0.9.0,>=0.8.0 in c:\\users\\david\\anaconda3\\envs\\clase\\lib\\site-packages (from jedi>=0.16->ipython) (0.8.3)\n",
      "Requirement already satisfied: wcwidth in c:\\users\\david\\anaconda3\\envs\\clase\\lib\\site-packages (from prompt-toolkit!=3.0.0,!=3.0.1,<3.1.0,>=2.0.0->ipython) (0.2.5)\n",
      "Note: you may need to restart the kernel to use updated packages.\n",
      "Requirement already satisfied: seaborn in c:\\users\\david\\anaconda3\\envs\\clase\\lib\\site-packages (0.12.1)\n",
      "Requirement already satisfied: matplotlib!=3.6.1,>=3.1 in c:\\users\\david\\anaconda3\\envs\\clase\\lib\\site-packages (from seaborn) (3.5.3)\n",
      "Requirement already satisfied: pandas>=0.25 in c:\\users\\david\\anaconda3\\envs\\clase\\lib\\site-packages (from seaborn) (1.3.5)\n",
      "Requirement already satisfied: numpy>=1.17 in c:\\users\\david\\anaconda3\\envs\\clase\\lib\\site-packages (from seaborn) (1.21.6)\n",
      "Requirement already satisfied: typing_extensions in c:\\users\\david\\anaconda3\\envs\\clase\\lib\\site-packages (from seaborn) (4.4.0)\n",
      "Requirement already satisfied: pyparsing>=2.2.1 in c:\\users\\david\\anaconda3\\envs\\clase\\lib\\site-packages (from matplotlib!=3.6.1,>=3.1->seaborn) (3.0.9)\n",
      "Requirement already satisfied: fonttools>=4.22.0 in c:\\users\\david\\anaconda3\\envs\\clase\\lib\\site-packages (from matplotlib!=3.6.1,>=3.1->seaborn) (4.38.0)\n",
      "Requirement already satisfied: kiwisolver>=1.0.1 in c:\\users\\david\\anaconda3\\envs\\clase\\lib\\site-packages (from matplotlib!=3.6.1,>=3.1->seaborn) (1.4.4)\n",
      "Requirement already satisfied: cycler>=0.10 in c:\\users\\david\\anaconda3\\envs\\clase\\lib\\site-packages (from matplotlib!=3.6.1,>=3.1->seaborn) (0.11.0)\n",
      "Requirement already satisfied: python-dateutil>=2.7 in c:\\users\\david\\anaconda3\\envs\\clase\\lib\\site-packages (from matplotlib!=3.6.1,>=3.1->seaborn) (2.8.2)\n",
      "Requirement already satisfied: pillow>=6.2.0 in c:\\users\\david\\anaconda3\\envs\\clase\\lib\\site-packages (from matplotlib!=3.6.1,>=3.1->seaborn) (9.2.0)\n",
      "Requirement already satisfied: packaging>=20.0 in c:\\users\\david\\anaconda3\\envs\\clase\\lib\\site-packages (from matplotlib!=3.6.1,>=3.1->seaborn) (21.3)\n",
      "Requirement already satisfied: pytz>=2017.3 in c:\\users\\david\\anaconda3\\envs\\clase\\lib\\site-packages (from pandas>=0.25->seaborn) (2022.4)\n",
      "Requirement already satisfied: six>=1.5 in c:\\users\\david\\anaconda3\\envs\\clase\\lib\\site-packages (from python-dateutil>=2.7->matplotlib!=3.6.1,>=3.1->seaborn) (1.16.0)\n",
      "Note: you may need to restart the kernel to use updated packages.\n"
     ]
    }
   ],
   "source": [
    "%pip install ipython\n",
    "%pip install seaborn"
   ]
  },
  {
   "cell_type": "code",
   "execution_count": 2,
   "id": "65350083",
   "metadata": {},
   "outputs": [],
   "source": [
    "# importación de librerías\n",
    "import pandas as pd\n",
    "pd.set_option('display.max_columns', None)\n",
    "pd.set_option('display.max_rows', None)\n",
    "import numpy as np\n",
    "import warnings\n",
    "warnings.filterwarnings('ignore')\n",
    "\n",
    "# para pintar\n",
    "import pylab as plt\n",
    "import seaborn as sns\n",
    "\n",
    "#para que salga el grafico\n",
    "%matplotlib inline"
   ]
  },
  {
   "cell_type": "code",
   "execution_count": 3,
   "id": "93504a0c",
   "metadata": {},
   "outputs": [],
   "source": [
    "# importación de csv\n",
    "df_act_ori = pd.read_csv(r'C:\\Users\\david\\Proyectos\\w3-database-project\\data\\actor.csv')"
   ]
  },
  {
   "cell_type": "code",
   "execution_count": 4,
   "id": "5a14a5ab",
   "metadata": {},
   "outputs": [
    {
     "data": {
      "text/html": [
       "<div>\n",
       "<style scoped>\n",
       "    .dataframe tbody tr th:only-of-type {\n",
       "        vertical-align: middle;\n",
       "    }\n",
       "\n",
       "    .dataframe tbody tr th {\n",
       "        vertical-align: top;\n",
       "    }\n",
       "\n",
       "    .dataframe thead th {\n",
       "        text-align: right;\n",
       "    }\n",
       "</style>\n",
       "<table border=\"1\" class=\"dataframe\">\n",
       "  <thead>\n",
       "    <tr style=\"text-align: right;\">\n",
       "      <th></th>\n",
       "      <th>actor_id</th>\n",
       "      <th>first_name</th>\n",
       "      <th>last_name</th>\n",
       "      <th>last_update</th>\n",
       "    </tr>\n",
       "  </thead>\n",
       "  <tbody>\n",
       "    <tr>\n",
       "      <th>0</th>\n",
       "      <td>1</td>\n",
       "      <td>PENELOPE</td>\n",
       "      <td>GUINESS</td>\n",
       "      <td>2006-02-15 04:34:33</td>\n",
       "    </tr>\n",
       "    <tr>\n",
       "      <th>1</th>\n",
       "      <td>2</td>\n",
       "      <td>NICK</td>\n",
       "      <td>WAHLBERG</td>\n",
       "      <td>2006-02-15 04:34:33</td>\n",
       "    </tr>\n",
       "    <tr>\n",
       "      <th>2</th>\n",
       "      <td>3</td>\n",
       "      <td>ED</td>\n",
       "      <td>CHASE</td>\n",
       "      <td>2006-02-15 04:34:33</td>\n",
       "    </tr>\n",
       "    <tr>\n",
       "      <th>3</th>\n",
       "      <td>4</td>\n",
       "      <td>JENNIFER</td>\n",
       "      <td>DAVIS</td>\n",
       "      <td>2006-02-15 04:34:33</td>\n",
       "    </tr>\n",
       "    <tr>\n",
       "      <th>4</th>\n",
       "      <td>5</td>\n",
       "      <td>JOHNNY</td>\n",
       "      <td>LOLLOBRIGIDA</td>\n",
       "      <td>2006-02-15 04:34:33</td>\n",
       "    </tr>\n",
       "  </tbody>\n",
       "</table>\n",
       "</div>"
      ],
      "text/plain": [
       "   actor_id first_name     last_name          last_update\n",
       "0         1   PENELOPE       GUINESS  2006-02-15 04:34:33\n",
       "1         2       NICK      WAHLBERG  2006-02-15 04:34:33\n",
       "2         3         ED         CHASE  2006-02-15 04:34:33\n",
       "3         4   JENNIFER         DAVIS  2006-02-15 04:34:33\n",
       "4         5     JOHNNY  LOLLOBRIGIDA  2006-02-15 04:34:33"
      ]
     },
     "execution_count": 4,
     "metadata": {},
     "output_type": "execute_result"
    }
   ],
   "source": [
    "df_act_ori.head()"
   ]
  },
  {
   "cell_type": "code",
   "execution_count": 5,
   "id": "bac4ae66",
   "metadata": {},
   "outputs": [],
   "source": [
    "df_act=df_act_ori.copy()"
   ]
  },
  {
   "cell_type": "code",
   "execution_count": 6,
   "id": "c574f9d9",
   "metadata": {},
   "outputs": [
    {
     "data": {
      "text/html": [
       "<div>\n",
       "<style scoped>\n",
       "    .dataframe tbody tr th:only-of-type {\n",
       "        vertical-align: middle;\n",
       "    }\n",
       "\n",
       "    .dataframe tbody tr th {\n",
       "        vertical-align: top;\n",
       "    }\n",
       "\n",
       "    .dataframe thead th {\n",
       "        text-align: right;\n",
       "    }\n",
       "</style>\n",
       "<table border=\"1\" class=\"dataframe\">\n",
       "  <thead>\n",
       "    <tr style=\"text-align: right;\">\n",
       "      <th></th>\n",
       "      <th>actor_id</th>\n",
       "      <th>first_name</th>\n",
       "      <th>last_name</th>\n",
       "      <th>last_update</th>\n",
       "    </tr>\n",
       "  </thead>\n",
       "  <tbody>\n",
       "    <tr>\n",
       "      <th>0</th>\n",
       "      <td>1</td>\n",
       "      <td>PENELOPE</td>\n",
       "      <td>GUINESS</td>\n",
       "      <td>2006-02-15 04:34:33</td>\n",
       "    </tr>\n",
       "    <tr>\n",
       "      <th>1</th>\n",
       "      <td>2</td>\n",
       "      <td>NICK</td>\n",
       "      <td>WAHLBERG</td>\n",
       "      <td>2006-02-15 04:34:33</td>\n",
       "    </tr>\n",
       "    <tr>\n",
       "      <th>2</th>\n",
       "      <td>3</td>\n",
       "      <td>ED</td>\n",
       "      <td>CHASE</td>\n",
       "      <td>2006-02-15 04:34:33</td>\n",
       "    </tr>\n",
       "    <tr>\n",
       "      <th>3</th>\n",
       "      <td>4</td>\n",
       "      <td>JENNIFER</td>\n",
       "      <td>DAVIS</td>\n",
       "      <td>2006-02-15 04:34:33</td>\n",
       "    </tr>\n",
       "    <tr>\n",
       "      <th>4</th>\n",
       "      <td>5</td>\n",
       "      <td>JOHNNY</td>\n",
       "      <td>LOLLOBRIGIDA</td>\n",
       "      <td>2006-02-15 04:34:33</td>\n",
       "    </tr>\n",
       "  </tbody>\n",
       "</table>\n",
       "</div>"
      ],
      "text/plain": [
       "   actor_id first_name     last_name          last_update\n",
       "0         1   PENELOPE       GUINESS  2006-02-15 04:34:33\n",
       "1         2       NICK      WAHLBERG  2006-02-15 04:34:33\n",
       "2         3         ED         CHASE  2006-02-15 04:34:33\n",
       "3         4   JENNIFER         DAVIS  2006-02-15 04:34:33\n",
       "4         5     JOHNNY  LOLLOBRIGIDA  2006-02-15 04:34:33"
      ]
     },
     "execution_count": 6,
     "metadata": {},
     "output_type": "execute_result"
    }
   ],
   "source": [
    "df_act.head()"
   ]
  },
  {
   "cell_type": "code",
   "execution_count": 7,
   "id": "09bdd3c7",
   "metadata": {},
   "outputs": [
    {
     "data": {
      "text/plain": [
       "(200, 4)"
      ]
     },
     "execution_count": 7,
     "metadata": {},
     "output_type": "execute_result"
    }
   ],
   "source": [
    "df_act.shape"
   ]
  },
  {
   "cell_type": "code",
   "execution_count": 8,
   "id": "346d18b9",
   "metadata": {},
   "outputs": [],
   "source": [
    "df_act_dim_orig=df_act.shape"
   ]
  },
  {
   "cell_type": "code",
   "execution_count": 9,
   "id": "514c37f3",
   "metadata": {},
   "outputs": [
    {
     "name": "stdout",
     "output_type": "stream",
     "text": [
      "<class 'pandas.core.frame.DataFrame'>\n",
      "RangeIndex: 200 entries, 0 to 199\n",
      "Data columns (total 4 columns):\n",
      " #   Column       Non-Null Count  Dtype \n",
      "---  ------       --------------  ----- \n",
      " 0   actor_id     200 non-null    int64 \n",
      " 1   first_name   200 non-null    object\n",
      " 2   last_name    200 non-null    object\n",
      " 3   last_update  200 non-null    object\n",
      "dtypes: int64(1), object(3)\n",
      "memory usage: 41.0 KB\n"
     ]
    }
   ],
   "source": [
    "df_act.info(memory_usage='deep')"
   ]
  },
  {
   "cell_type": "code",
   "execution_count": 10,
   "id": "2375ef27",
   "metadata": {},
   "outputs": [
    {
     "data": {
      "text/plain": [
       "Series([], dtype: int64)"
      ]
     },
     "execution_count": 10,
     "metadata": {},
     "output_type": "execute_result"
    }
   ],
   "source": [
    "nan_cols=df_act.isna().sum()\n",
    "\n",
    "nan_cols[nan_cols>0]"
   ]
  },
  {
   "cell_type": "code",
   "execution_count": 11,
   "id": "e0cee92c",
   "metadata": {},
   "outputs": [
    {
     "data": {
      "text/html": [
       "<div>\n",
       "<style scoped>\n",
       "    .dataframe tbody tr th:only-of-type {\n",
       "        vertical-align: middle;\n",
       "    }\n",
       "\n",
       "    .dataframe tbody tr th {\n",
       "        vertical-align: top;\n",
       "    }\n",
       "\n",
       "    .dataframe thead th {\n",
       "        text-align: right;\n",
       "    }\n",
       "</style>\n",
       "<table border=\"1\" class=\"dataframe\">\n",
       "  <thead>\n",
       "    <tr style=\"text-align: right;\">\n",
       "      <th></th>\n",
       "      <th>count</th>\n",
       "      <th>unique</th>\n",
       "      <th>top</th>\n",
       "      <th>freq</th>\n",
       "      <th>mean</th>\n",
       "      <th>std</th>\n",
       "      <th>min</th>\n",
       "      <th>25%</th>\n",
       "      <th>50%</th>\n",
       "      <th>75%</th>\n",
       "      <th>max</th>\n",
       "    </tr>\n",
       "  </thead>\n",
       "  <tbody>\n",
       "    <tr>\n",
       "      <th>actor_id</th>\n",
       "      <td>200.0</td>\n",
       "      <td>NaN</td>\n",
       "      <td>NaN</td>\n",
       "      <td>NaN</td>\n",
       "      <td>100.5</td>\n",
       "      <td>57.879185</td>\n",
       "      <td>1.0</td>\n",
       "      <td>50.75</td>\n",
       "      <td>100.5</td>\n",
       "      <td>150.25</td>\n",
       "      <td>200.0</td>\n",
       "    </tr>\n",
       "    <tr>\n",
       "      <th>first_name</th>\n",
       "      <td>200</td>\n",
       "      <td>128</td>\n",
       "      <td>PENELOPE</td>\n",
       "      <td>4</td>\n",
       "      <td>NaN</td>\n",
       "      <td>NaN</td>\n",
       "      <td>NaN</td>\n",
       "      <td>NaN</td>\n",
       "      <td>NaN</td>\n",
       "      <td>NaN</td>\n",
       "      <td>NaN</td>\n",
       "    </tr>\n",
       "    <tr>\n",
       "      <th>last_name</th>\n",
       "      <td>200</td>\n",
       "      <td>121</td>\n",
       "      <td>KILMER</td>\n",
       "      <td>5</td>\n",
       "      <td>NaN</td>\n",
       "      <td>NaN</td>\n",
       "      <td>NaN</td>\n",
       "      <td>NaN</td>\n",
       "      <td>NaN</td>\n",
       "      <td>NaN</td>\n",
       "      <td>NaN</td>\n",
       "    </tr>\n",
       "    <tr>\n",
       "      <th>last_update</th>\n",
       "      <td>200</td>\n",
       "      <td>1</td>\n",
       "      <td>2006-02-15 04:34:33</td>\n",
       "      <td>200</td>\n",
       "      <td>NaN</td>\n",
       "      <td>NaN</td>\n",
       "      <td>NaN</td>\n",
       "      <td>NaN</td>\n",
       "      <td>NaN</td>\n",
       "      <td>NaN</td>\n",
       "      <td>NaN</td>\n",
       "    </tr>\n",
       "  </tbody>\n",
       "</table>\n",
       "</div>"
      ],
      "text/plain": [
       "             count unique                  top freq   mean        std  min  \\\n",
       "actor_id     200.0    NaN                  NaN  NaN  100.5  57.879185  1.0   \n",
       "first_name     200    128             PENELOPE    4    NaN        NaN  NaN   \n",
       "last_name      200    121               KILMER    5    NaN        NaN  NaN   \n",
       "last_update    200      1  2006-02-15 04:34:33  200    NaN        NaN  NaN   \n",
       "\n",
       "               25%    50%     75%    max  \n",
       "actor_id     50.75  100.5  150.25  200.0  \n",
       "first_name     NaN    NaN     NaN    NaN  \n",
       "last_name      NaN    NaN     NaN    NaN  \n",
       "last_update    NaN    NaN     NaN    NaN  "
      ]
     },
     "execution_count": 11,
     "metadata": {},
     "output_type": "execute_result"
    }
   ],
   "source": [
    "df_act.describe(include='all').T"
   ]
  },
  {
   "cell_type": "code",
   "execution_count": 12,
   "id": "a45b5b20",
   "metadata": {},
   "outputs": [
    {
     "data": {
      "text/plain": [
       "Index(['actor_id', 'first_name', 'last_name', 'last_update'], dtype='object')"
      ]
     },
     "execution_count": 12,
     "metadata": {},
     "output_type": "execute_result"
    }
   ],
   "source": [
    "df_act.columns"
   ]
  },
  {
   "cell_type": "code",
   "execution_count": 13,
   "id": "90603dbf",
   "metadata": {},
   "outputs": [
    {
     "data": {
      "text/plain": [
       "True"
      ]
     },
     "execution_count": 13,
     "metadata": {},
     "output_type": "execute_result"
    }
   ],
   "source": [
    "df_act.drop_duplicates().shape==df_act.shape"
   ]
  },
  {
   "cell_type": "code",
   "execution_count": 14,
   "id": "b5b1ce6f",
   "metadata": {},
   "outputs": [
    {
     "data": {
      "text/plain": [
       "0    1\n",
       "1    2\n",
       "2    3\n",
       "3    4\n",
       "4    5\n",
       "Name: actor_id, dtype: int64"
      ]
     },
     "execution_count": 14,
     "metadata": {},
     "output_type": "execute_result"
    }
   ],
   "source": [
    "# exploración columna 'actor_id'\n",
    "df_act.actor_id.head()"
   ]
  },
  {
   "cell_type": "code",
   "execution_count": 17,
   "id": "0f390b91",
   "metadata": {},
   "outputs": [
    {
     "data": {
      "text/plain": [
       "array([  1,   2,   3,   4,   5,   6,   7,   8,   9,  10,  11,  12,  13,\n",
       "        14,  15,  16,  17,  18,  19,  20,  21,  22,  23,  24,  25,  26,\n",
       "        27,  28,  29,  30,  31,  32,  33,  34,  35,  36,  37,  38,  39,\n",
       "        40,  41,  42,  43,  44,  45,  46,  47,  48,  49,  50,  51,  52,\n",
       "        53,  54,  55,  56,  57,  58,  59,  60,  61,  62,  63,  64,  65,\n",
       "        66,  67,  68,  69,  70,  71,  72,  73,  74,  75,  76,  77,  78,\n",
       "        79,  80,  81,  82,  83,  84,  85,  86,  87,  88,  89,  90,  91,\n",
       "        92,  93,  94,  95,  96,  97,  98,  99, 100, 101, 102, 103, 104,\n",
       "       105, 106, 107, 108, 109, 110, 111, 112, 113, 114, 115, 116, 117,\n",
       "       118, 119, 120, 121, 122, 123, 124, 125, 126, 127, 128, 129, 130,\n",
       "       131, 132, 133, 134, 135, 136, 137, 138, 139, 140, 141, 142, 143,\n",
       "       144, 145, 146, 147, 148, 149, 150, 151, 152, 153, 154, 155, 156,\n",
       "       157, 158, 159, 160, 161, 162, 163, 164, 165, 166, 167, 168, 169,\n",
       "       170, 171, 172, 173, 174, 175, 176, 177, 178, 179, 180, 181, 182,\n",
       "       183, 184, 185, 186, 187, 188, 189, 190, 191, 192, 193, 194, 195,\n",
       "       196, 197, 198, 199, 200], dtype=int64)"
      ]
     },
     "execution_count": 17,
     "metadata": {},
     "output_type": "execute_result"
    }
   ],
   "source": [
    "df_act.actor_id.unique()"
   ]
  },
  {
   "cell_type": "code",
   "execution_count": 18,
   "id": "79a6701d",
   "metadata": {},
   "outputs": [
    {
     "data": {
      "text/plain": [
       "1      1\n",
       "138    1\n",
       "128    1\n",
       "129    1\n",
       "130    1\n",
       "131    1\n",
       "132    1\n",
       "133    1\n",
       "134    1\n",
       "135    1\n",
       "136    1\n",
       "137    1\n",
       "139    1\n",
       "2      1\n",
       "140    1\n",
       "141    1\n",
       "142    1\n",
       "143    1\n",
       "144    1\n",
       "145    1\n",
       "146    1\n",
       "147    1\n",
       "148    1\n",
       "149    1\n",
       "127    1\n",
       "126    1\n",
       "125    1\n",
       "124    1\n",
       "103    1\n",
       "104    1\n",
       "105    1\n",
       "106    1\n",
       "107    1\n",
       "108    1\n",
       "109    1\n",
       "110    1\n",
       "111    1\n",
       "112    1\n",
       "113    1\n",
       "114    1\n",
       "115    1\n",
       "116    1\n",
       "117    1\n",
       "118    1\n",
       "119    1\n",
       "120    1\n",
       "121    1\n",
       "122    1\n",
       "123    1\n",
       "150    1\n",
       "151    1\n",
       "152    1\n",
       "177    1\n",
       "179    1\n",
       "180    1\n",
       "181    1\n",
       "182    1\n",
       "183    1\n",
       "184    1\n",
       "185    1\n",
       "186    1\n",
       "187    1\n",
       "188    1\n",
       "189    1\n",
       "190    1\n",
       "191    1\n",
       "192    1\n",
       "193    1\n",
       "194    1\n",
       "195    1\n",
       "196    1\n",
       "197    1\n",
       "198    1\n",
       "199    1\n",
       "178    1\n",
       "176    1\n",
       "153    1\n",
       "175    1\n",
       "154    1\n",
       "155    1\n",
       "156    1\n",
       "157    1\n",
       "158    1\n",
       "159    1\n",
       "160    1\n",
       "161    1\n",
       "162    1\n",
       "163    1\n",
       "164    1\n",
       "165    1\n",
       "166    1\n",
       "167    1\n",
       "168    1\n",
       "169    1\n",
       "170    1\n",
       "171    1\n",
       "172    1\n",
       "173    1\n",
       "174    1\n",
       "102    1\n",
       "101    1\n",
       "100    1\n",
       "26     1\n",
       "28     1\n",
       "29     1\n",
       "30     1\n",
       "31     1\n",
       "32     1\n",
       "33     1\n",
       "34     1\n",
       "35     1\n",
       "36     1\n",
       "37     1\n",
       "38     1\n",
       "39     1\n",
       "40     1\n",
       "41     1\n",
       "42     1\n",
       "43     1\n",
       "44     1\n",
       "45     1\n",
       "46     1\n",
       "47     1\n",
       "48     1\n",
       "27     1\n",
       "25     1\n",
       "50     1\n",
       "24     1\n",
       "3      1\n",
       "4      1\n",
       "5      1\n",
       "6      1\n",
       "7      1\n",
       "8      1\n",
       "9      1\n",
       "10     1\n",
       "11     1\n",
       "12     1\n",
       "13     1\n",
       "14     1\n",
       "15     1\n",
       "16     1\n",
       "17     1\n",
       "18     1\n",
       "19     1\n",
       "20     1\n",
       "21     1\n",
       "22     1\n",
       "23     1\n",
       "49     1\n",
       "51     1\n",
       "99     1\n",
       "76     1\n",
       "78     1\n",
       "79     1\n",
       "80     1\n",
       "81     1\n",
       "82     1\n",
       "83     1\n",
       "84     1\n",
       "85     1\n",
       "86     1\n",
       "87     1\n",
       "88     1\n",
       "89     1\n",
       "90     1\n",
       "91     1\n",
       "92     1\n",
       "93     1\n",
       "94     1\n",
       "95     1\n",
       "96     1\n",
       "97     1\n",
       "98     1\n",
       "77     1\n",
       "75     1\n",
       "52     1\n",
       "74     1\n",
       "53     1\n",
       "54     1\n",
       "55     1\n",
       "56     1\n",
       "57     1\n",
       "58     1\n",
       "59     1\n",
       "60     1\n",
       "61     1\n",
       "62     1\n",
       "63     1\n",
       "64     1\n",
       "65     1\n",
       "66     1\n",
       "67     1\n",
       "68     1\n",
       "69     1\n",
       "70     1\n",
       "71     1\n",
       "72     1\n",
       "73     1\n",
       "200    1\n",
       "Name: actor_id, dtype: int64"
      ]
     },
     "execution_count": 18,
     "metadata": {},
     "output_type": "execute_result"
    }
   ],
   "source": [
    "df_act.actor_id.value_counts()"
   ]
  },
  {
   "cell_type": "code",
   "execution_count": 19,
   "id": "447c5af6",
   "metadata": {},
   "outputs": [
    {
     "data": {
      "text/plain": [
       "200"
      ]
     },
     "execution_count": 19,
     "metadata": {},
     "output_type": "execute_result"
    }
   ],
   "source": [
    "len(df_act.actor_id.value_counts())"
   ]
  },
  {
   "cell_type": "code",
   "execution_count": 20,
   "id": "8e061638",
   "metadata": {},
   "outputs": [
    {
     "data": {
      "text/html": [
       "<div>\n",
       "<style scoped>\n",
       "    .dataframe tbody tr th:only-of-type {\n",
       "        vertical-align: middle;\n",
       "    }\n",
       "\n",
       "    .dataframe tbody tr th {\n",
       "        vertical-align: top;\n",
       "    }\n",
       "\n",
       "    .dataframe thead th {\n",
       "        text-align: right;\n",
       "    }\n",
       "</style>\n",
       "<table border=\"1\" class=\"dataframe\">\n",
       "  <thead>\n",
       "    <tr style=\"text-align: right;\">\n",
       "      <th></th>\n",
       "      <th>actor_id</th>\n",
       "      <th>first_name</th>\n",
       "      <th>last_name</th>\n",
       "      <th>last_update</th>\n",
       "    </tr>\n",
       "  </thead>\n",
       "  <tbody>\n",
       "    <tr>\n",
       "      <th>0</th>\n",
       "      <td>1</td>\n",
       "      <td>PENELOPE</td>\n",
       "      <td>GUINESS</td>\n",
       "      <td>2006-02-15 04:34:33</td>\n",
       "    </tr>\n",
       "    <tr>\n",
       "      <th>1</th>\n",
       "      <td>2</td>\n",
       "      <td>NICK</td>\n",
       "      <td>WAHLBERG</td>\n",
       "      <td>2006-02-15 04:34:33</td>\n",
       "    </tr>\n",
       "    <tr>\n",
       "      <th>2</th>\n",
       "      <td>3</td>\n",
       "      <td>ED</td>\n",
       "      <td>CHASE</td>\n",
       "      <td>2006-02-15 04:34:33</td>\n",
       "    </tr>\n",
       "    <tr>\n",
       "      <th>3</th>\n",
       "      <td>4</td>\n",
       "      <td>JENNIFER</td>\n",
       "      <td>DAVIS</td>\n",
       "      <td>2006-02-15 04:34:33</td>\n",
       "    </tr>\n",
       "    <tr>\n",
       "      <th>4</th>\n",
       "      <td>5</td>\n",
       "      <td>JOHNNY</td>\n",
       "      <td>LOLLOBRIGIDA</td>\n",
       "      <td>2006-02-15 04:34:33</td>\n",
       "    </tr>\n",
       "  </tbody>\n",
       "</table>\n",
       "</div>"
      ],
      "text/plain": [
       "   actor_id first_name     last_name          last_update\n",
       "0         1   PENELOPE       GUINESS  2006-02-15 04:34:33\n",
       "1         2       NICK      WAHLBERG  2006-02-15 04:34:33\n",
       "2         3         ED         CHASE  2006-02-15 04:34:33\n",
       "3         4   JENNIFER         DAVIS  2006-02-15 04:34:33\n",
       "4         5     JOHNNY  LOLLOBRIGIDA  2006-02-15 04:34:33"
      ]
     },
     "execution_count": 20,
     "metadata": {},
     "output_type": "execute_result"
    }
   ],
   "source": [
    "df_act.head()"
   ]
  },
  {
   "cell_type": "code",
   "execution_count": 21,
   "id": "49356860",
   "metadata": {},
   "outputs": [
    {
     "data": {
      "text/plain": [
       "128"
      ]
     },
     "execution_count": 21,
     "metadata": {},
     "output_type": "execute_result"
    }
   ],
   "source": [
    "# exploración columna 'actor_id'\n",
    "len(df_act.first_name.unique())"
   ]
  },
  {
   "cell_type": "code",
   "execution_count": 22,
   "id": "4ca4e98e",
   "metadata": {},
   "outputs": [
    {
     "data": {
      "text/plain": [
       "PENELOPE       4\n",
       "JULIA          4\n",
       "KENNETH        4\n",
       "GENE           3\n",
       "GROUCHO        3\n",
       "DAN            3\n",
       "CUBA           3\n",
       "JAYNE          3\n",
       "CAMERON        3\n",
       "FAY            3\n",
       "CHRISTIAN      3\n",
       "MATTHEW        3\n",
       "BURT           3\n",
       "MORGAN         3\n",
       "RUSSELL        3\n",
       "ED             3\n",
       "NICK           3\n",
       "MENA           2\n",
       "ANGELA         2\n",
       "MARY           2\n",
       "GARY           2\n",
       "ADAM           2\n",
       "SEAN           2\n",
       "CATE           2\n",
       "GRETA          2\n",
       "SCARLETT       2\n",
       "BEN            2\n",
       "REESE          2\n",
       "MINNIE         2\n",
       "ALBERT         2\n",
       "SPENCER        2\n",
       "CHRISTOPHER    2\n",
       "DARYL          2\n",
       "CHRIS          2\n",
       "RENEE          2\n",
       "SUSAN          2\n",
       "MERYL          2\n",
       "FRANCES        2\n",
       "WARREN         2\n",
       "AUDREY         2\n",
       "KEVIN          2\n",
       "LUCILLE        2\n",
       "MICHAEL        2\n",
       "RIP            2\n",
       "WOODY          2\n",
       "VIVIEN         2\n",
       "MILLA          2\n",
       "KIRSTEN        2\n",
       "SANDRA         2\n",
       "HUMPHREY       2\n",
       "TOM            2\n",
       "JOHNNY         2\n",
       "LIZA           1\n",
       "DEBBIE         1\n",
       "ROCK           1\n",
       "GREGORY        1\n",
       "SALMA          1\n",
       "LISA           1\n",
       "JULIANNE       1\n",
       "JON            1\n",
       "WILLIAM        1\n",
       "JOHN           1\n",
       "HARRISON       1\n",
       "BELA           1\n",
       "JEFF           1\n",
       "HARVEY         1\n",
       "ALAN           1\n",
       "RIVER          1\n",
       "OPRAH          1\n",
       "IAN            1\n",
       "SYLVESTER      1\n",
       "GEOFFREY       1\n",
       "EMILY          1\n",
       "AL             1\n",
       "KIM            1\n",
       "JADA           1\n",
       "JANE           1\n",
       "WHOOPI         1\n",
       "LAURENCE       1\n",
       "WILL           1\n",
       "EWAN           1\n",
       "OLYMPIA        1\n",
       "RITA           1\n",
       "LAURA          1\n",
       "RICHARD        1\n",
       "MAE            1\n",
       "GINA           1\n",
       "BOB            1\n",
       "JODIE          1\n",
       "GOLDIE         1\n",
       "VAL            1\n",
       "JUDY           1\n",
       "TIM            1\n",
       "SISSY          1\n",
       "ALEC           1\n",
       "ELVIS          1\n",
       "HELEN          1\n",
       "SIDNEY         1\n",
       "FRED           1\n",
       "UMA            1\n",
       "KARL           1\n",
       "ZERO           1\n",
       "JOE            1\n",
       "GRACE          1\n",
       "BETTE          1\n",
       "JENNIFER       1\n",
       "KIRK           1\n",
       "PARKER         1\n",
       "ANNE           1\n",
       "NATALIE        1\n",
       "WALTER         1\n",
       "JIM            1\n",
       "MEG            1\n",
       "ELLEN          1\n",
       "CHARLIZE       1\n",
       "GREG           1\n",
       "JAMES          1\n",
       "RALPH          1\n",
       "CARY           1\n",
       "ANGELINA       1\n",
       "MICHELLE       1\n",
       "JESSICA        1\n",
       "RAY            1\n",
       "HENRY          1\n",
       "DUSTIN         1\n",
       "JUDE           1\n",
       "CARMEN         1\n",
       "THORA          1\n",
       "Name: first_name, dtype: int64"
      ]
     },
     "execution_count": 22,
     "metadata": {},
     "output_type": "execute_result"
    }
   ],
   "source": [
    "df_act.first_name.value_counts()"
   ]
  },
  {
   "cell_type": "code",
   "execution_count": 23,
   "id": "da1c6d0e",
   "metadata": {},
   "outputs": [
    {
     "data": {
      "text/plain": [
       "121"
      ]
     },
     "execution_count": 23,
     "metadata": {},
     "output_type": "execute_result"
    }
   ],
   "source": [
    "len(df_act.last_name.unique())"
   ]
  },
  {
   "cell_type": "code",
   "execution_count": 24,
   "id": "8e49baa2",
   "metadata": {},
   "outputs": [
    {
     "data": {
      "text/plain": [
       "KILMER     5\n",
       "TEMPLE     4\n",
       "NOLTE      4\n",
       "GUINESS    3\n",
       "ALLEN      3\n",
       "Name: last_name, dtype: int64"
      ]
     },
     "execution_count": 24,
     "metadata": {},
     "output_type": "execute_result"
    }
   ],
   "source": [
    "df_act.last_name.value_counts().head()"
   ]
  },
  {
   "cell_type": "code",
   "execution_count": 25,
   "id": "f8e68d2f",
   "metadata": {},
   "outputs": [
    {
     "data": {
      "text/plain": [
       "False"
      ]
     },
     "execution_count": 25,
     "metadata": {},
     "output_type": "execute_result"
    }
   ],
   "source": [
    "df_act.drop_duplicates(subset = ['first_name','last_name']).shape==df_act.shape"
   ]
  },
  {
   "cell_type": "code",
   "execution_count": 26,
   "id": "37af2c12",
   "metadata": {},
   "outputs": [
    {
     "data": {
      "text/html": [
       "<div>\n",
       "<style scoped>\n",
       "    .dataframe tbody tr th:only-of-type {\n",
       "        vertical-align: middle;\n",
       "    }\n",
       "\n",
       "    .dataframe tbody tr th {\n",
       "        vertical-align: top;\n",
       "    }\n",
       "\n",
       "    .dataframe thead th {\n",
       "        text-align: right;\n",
       "    }\n",
       "</style>\n",
       "<table border=\"1\" class=\"dataframe\">\n",
       "  <thead>\n",
       "    <tr style=\"text-align: right;\">\n",
       "      <th></th>\n",
       "      <th>actor_id</th>\n",
       "      <th>first_name</th>\n",
       "      <th>last_name</th>\n",
       "      <th>last_update</th>\n",
       "    </tr>\n",
       "  </thead>\n",
       "  <tbody>\n",
       "  </tbody>\n",
       "</table>\n",
       "</div>"
      ],
      "text/plain": [
       "Empty DataFrame\n",
       "Columns: [actor_id, first_name, last_name, last_update]\n",
       "Index: []"
      ]
     },
     "execution_count": 26,
     "metadata": {},
     "output_type": "execute_result"
    }
   ],
   "source": [
    "df_act[(df_act.first_name == df_act.last_name)].head()"
   ]
  },
  {
   "cell_type": "code",
   "execution_count": 27,
   "id": "49fe57e3",
   "metadata": {},
   "outputs": [],
   "source": [
    "df_act['complete_name'] = df_act.first_name + (' ') + df_act.last_name"
   ]
  },
  {
   "cell_type": "code",
   "execution_count": 28,
   "id": "74d38a05",
   "metadata": {},
   "outputs": [
    {
     "data": {
      "text/plain": [
       "0          PENELOPE GUINESS\n",
       "1             NICK WAHLBERG\n",
       "2                  ED CHASE\n",
       "3            JENNIFER DAVIS\n",
       "4       JOHNNY LOLLOBRIGIDA\n",
       "5           BETTE NICHOLSON\n",
       "6              GRACE MOSTEL\n",
       "7         MATTHEW JOHANSSON\n",
       "8                 JOE SWANK\n",
       "9           CHRISTIAN GABLE\n",
       "10                ZERO CAGE\n",
       "11               KARL BERRY\n",
       "12                 UMA WOOD\n",
       "13            VIVIEN BERGEN\n",
       "14             CUBA OLIVIER\n",
       "15             FRED COSTNER\n",
       "16             HELEN VOIGHT\n",
       "17                 DAN TORN\n",
       "18              BOB FAWCETT\n",
       "19            LUCILLE TRACY\n",
       "20          KIRSTEN PALTROW\n",
       "21               ELVIS MARX\n",
       "22            SANDRA KILMER\n",
       "23           CAMERON STREEP\n",
       "24              KEVIN BLOOM\n",
       "25             RIP CRAWFORD\n",
       "26            JULIA MCQUEEN\n",
       "27            WOODY HOFFMAN\n",
       "28               ALEC WAYNE\n",
       "29              SANDRA PECK\n",
       "30           SISSY SOBIESKI\n",
       "31              TIM HACKMAN\n",
       "32               MILLA PECK\n",
       "33           AUDREY OLIVIER\n",
       "34                JUDY DEAN\n",
       "35             BURT DUKAKIS\n",
       "36               VAL BOLGER\n",
       "37             TOM MCKELLEN\n",
       "38             GOLDIE BRODY\n",
       "39              JOHNNY CAGE\n",
       "40          JODIE DEGENERES\n",
       "41              TOM MIRANDA\n",
       "42            KIRK JOVOVICH\n",
       "43            NICK STALLONE\n",
       "44             REESE KILMER\n",
       "45          PARKER GOLDBERG\n",
       "46          JULIA BARRYMORE\n",
       "47        FRANCES DAY-LEWIS\n",
       "48              ANNE CRONYN\n",
       "49          NATALIE HOPKINS\n",
       "50             GARY PHOENIX\n",
       "51              CARMEN HUNT\n",
       "52              MENA TEMPLE\n",
       "53         PENELOPE PINKETT\n",
       "54               FAY KILMER\n",
       "55               DAN HARRIS\n",
       "56              JUDE CRUISE\n",
       "57         CHRISTIAN AKROYD\n",
       "58            DUSTIN TAUTOU\n",
       "59              HENRY BERRY\n",
       "60         CHRISTIAN NEESON\n",
       "61             JAYNE NEESON\n",
       "62             CAMERON WRAY\n",
       "63            RAY JOHANSSON\n",
       "64            ANGELA HUDSON\n",
       "65               MARY TANDY\n",
       "66           JESSICA BAILEY\n",
       "67              RIP WINSLET\n",
       "68          KENNETH PALTROW\n",
       "69     MICHELLE MCCONAUGHEY\n",
       "70               ADAM GRANT\n",
       "71            SEAN WILLIAMS\n",
       "72                GARY PENN\n",
       "73             MILLA KEITEL\n",
       "74               BURT POSEY\n",
       "75         ANGELINA ASTAIRE\n",
       "76         CARY MCCONAUGHEY\n",
       "77          GROUCHO SINATRA\n",
       "78              MAE HOFFMAN\n",
       "79               RALPH CRUZ\n",
       "80           SCARLETT DAMON\n",
       "81              WOODY JOLIE\n",
       "82               BEN WILLIS\n",
       "83               JAMES PITT\n",
       "84         MINNIE ZELLWEGER\n",
       "85             GREG CHAPLIN\n",
       "86             SPENCER PECK\n",
       "87            KENNETH PESCI\n",
       "88           CHARLIZE DENCH\n",
       "89             SEAN GUINESS\n",
       "90        CHRISTOPHER BERRY\n",
       "91           KIRSTEN AKROYD\n",
       "92            ELLEN PRESLEY\n",
       "93             KENNETH TORN\n",
       "94           DARYL WAHLBERG\n",
       "95              GENE WILLIS\n",
       "96                MEG HAWKE\n",
       "97            CHRIS BRIDGES\n",
       "98               JIM MOSTEL\n",
       "99             SPENCER DEPP\n",
       "100             SUSAN DAVIS\n",
       "101             WALTER TORN\n",
       "102           MATTHEW LEIGH\n",
       "103         PENELOPE CRONYN\n",
       "104            SIDNEY CROWE\n",
       "105           GROUCHO DUNST\n",
       "106          GINA DEGENERES\n",
       "107            WARREN NOLTE\n",
       "108          SYLVESTER DERN\n",
       "109             SUSAN DAVIS\n",
       "110       CAMERON ZELLWEGER\n",
       "111          RUSSELL BACALL\n",
       "112          MORGAN HOPKINS\n",
       "113        MORGAN MCDORMAND\n",
       "114           HARRISON BALE\n",
       "115              DAN STREEP\n",
       "116             RENEE TRACY\n",
       "117              CUBA ALLEN\n",
       "118          WARREN JACKMAN\n",
       "119         PENELOPE MONROE\n",
       "120            LIZA BERGMAN\n",
       "121             SALMA NOLTE\n",
       "122          JULIANNE DENCH\n",
       "123         SCARLETT BENING\n",
       "124            ALBERT NOLTE\n",
       "125           FRANCES TOMEI\n",
       "126           KEVIN GARLAND\n",
       "127            CATE MCQUEEN\n",
       "128          DARYL CRAWFORD\n",
       "129            GRETA KEITEL\n",
       "130            JANE JACKMAN\n",
       "131             ADAM HOPPER\n",
       "132            RICHARD PENN\n",
       "133            GENE HOPKINS\n",
       "134           RITA REYNOLDS\n",
       "135            ED MANSFIELD\n",
       "136         MORGAN WILLIAMS\n",
       "137             LUCILLE DEE\n",
       "138            EWAN GOODING\n",
       "139             WHOOPI HURT\n",
       "140             CATE HARRIS\n",
       "141              JADA RYDER\n",
       "142              RIVER DEAN\n",
       "143      ANGELA WITHERSPOON\n",
       "144               KIM ALLEN\n",
       "145        ALBERT JOHANSSON\n",
       "146             FAY WINSLET\n",
       "147               EMILY DEE\n",
       "148          RUSSELL TEMPLE\n",
       "149             JAYNE NOLTE\n",
       "150         GEOFFREY HESTON\n",
       "151              BEN HARRIS\n",
       "152           MINNIE KILMER\n",
       "153            MERYL GIBSON\n",
       "154               IAN TANDY\n",
       "155                FAY WOOD\n",
       "156            GRETA MALDEN\n",
       "157         VIVIEN BASINGER\n",
       "158             LAURA BRODY\n",
       "159              CHRIS DEPP\n",
       "160             HARVEY HOPE\n",
       "161            OPRAH KILMER\n",
       "162        CHRISTOPHER WEST\n",
       "163         HUMPHREY WILLIS\n",
       "164              AL GARLAND\n",
       "165          NICK DEGENERES\n",
       "166        LAURENCE BULLOCK\n",
       "167             WILL WILSON\n",
       "168         KENNETH HOFFMAN\n",
       "169             MENA HOPPER\n",
       "170        OLYMPIA PFEIFFER\n",
       "171        GROUCHO WILLIAMS\n",
       "172           ALAN DREYFUSS\n",
       "173          MICHAEL BENING\n",
       "174         WILLIAM HACKMAN\n",
       "175               JON CHASE\n",
       "176           GENE MCKELLEN\n",
       "177             LISA MONROE\n",
       "178              ED GUINESS\n",
       "179        JEFF SILVERSTONE\n",
       "180          MATTHEW CARREY\n",
       "181           DEBBIE AKROYD\n",
       "182           RUSSELL CLOSE\n",
       "183        HUMPHREY GARLAND\n",
       "184          MICHAEL BOLGER\n",
       "185         JULIA ZELLWEGER\n",
       "186              RENEE BALL\n",
       "187            ROCK DUKAKIS\n",
       "188              CUBA BIRCH\n",
       "189           AUDREY BAILEY\n",
       "190         GREGORY GOODING\n",
       "191             JOHN SUVARI\n",
       "192             BURT TEMPLE\n",
       "193             MERYL ALLEN\n",
       "194       JAYNE SILVERSTONE\n",
       "195             BELA WALKEN\n",
       "196              REESE WEST\n",
       "197             MARY KEITEL\n",
       "198           JULIA FAWCETT\n",
       "199            THORA TEMPLE\n",
       "Name: complete_name, dtype: object"
      ]
     },
     "execution_count": 28,
     "metadata": {},
     "output_type": "execute_result"
    }
   ],
   "source": [
    "df_act['complete_name']"
   ]
  },
  {
   "cell_type": "code",
   "execution_count": 29,
   "id": "67e0aa6b",
   "metadata": {},
   "outputs": [
    {
     "data": {
      "text/plain": [
       "SUSAN DAVIS       2\n",
       "EWAN GOODING      1\n",
       "DARYL CRAWFORD    1\n",
       "GRETA KEITEL      1\n",
       "JANE JACKMAN      1\n",
       "Name: complete_name, dtype: int64"
      ]
     },
     "execution_count": 29,
     "metadata": {},
     "output_type": "execute_result"
    }
   ],
   "source": [
    "df_act['complete_name'].value_counts().head()"
   ]
  },
  {
   "cell_type": "code",
   "execution_count": 30,
   "id": "70b989da",
   "metadata": {},
   "outputs": [],
   "source": [
    "#df_act[(df_act.complete_name.value_counts() > 1)]"
   ]
  },
  {
   "cell_type": "code",
   "execution_count": 31,
   "id": "f72711d1",
   "metadata": {},
   "outputs": [
    {
     "data": {
      "text/plain": [
       "2006-02-15 04:34:33    200\n",
       "Name: last_update, dtype: int64"
      ]
     },
     "execution_count": 31,
     "metadata": {},
     "output_type": "execute_result"
    }
   ],
   "source": [
    "df_act.last_update.value_counts()"
   ]
  },
  {
   "cell_type": "code",
   "execution_count": 32,
   "id": "158d9270",
   "metadata": {},
   "outputs": [],
   "source": [
    "df_act.drop(['last_update'], axis=1, inplace = True)"
   ]
  },
  {
   "cell_type": "code",
   "execution_count": 33,
   "id": "4f11e9f6",
   "metadata": {},
   "outputs": [
    {
     "data": {
      "text/html": [
       "<div>\n",
       "<style scoped>\n",
       "    .dataframe tbody tr th:only-of-type {\n",
       "        vertical-align: middle;\n",
       "    }\n",
       "\n",
       "    .dataframe tbody tr th {\n",
       "        vertical-align: top;\n",
       "    }\n",
       "\n",
       "    .dataframe thead th {\n",
       "        text-align: right;\n",
       "    }\n",
       "</style>\n",
       "<table border=\"1\" class=\"dataframe\">\n",
       "  <thead>\n",
       "    <tr style=\"text-align: right;\">\n",
       "      <th></th>\n",
       "      <th>actor_id</th>\n",
       "      <th>first_name</th>\n",
       "      <th>last_name</th>\n",
       "      <th>complete_name</th>\n",
       "    </tr>\n",
       "  </thead>\n",
       "  <tbody>\n",
       "    <tr>\n",
       "      <th>0</th>\n",
       "      <td>1</td>\n",
       "      <td>PENELOPE</td>\n",
       "      <td>GUINESS</td>\n",
       "      <td>PENELOPE GUINESS</td>\n",
       "    </tr>\n",
       "    <tr>\n",
       "      <th>1</th>\n",
       "      <td>2</td>\n",
       "      <td>NICK</td>\n",
       "      <td>WAHLBERG</td>\n",
       "      <td>NICK WAHLBERG</td>\n",
       "    </tr>\n",
       "    <tr>\n",
       "      <th>2</th>\n",
       "      <td>3</td>\n",
       "      <td>ED</td>\n",
       "      <td>CHASE</td>\n",
       "      <td>ED CHASE</td>\n",
       "    </tr>\n",
       "    <tr>\n",
       "      <th>3</th>\n",
       "      <td>4</td>\n",
       "      <td>JENNIFER</td>\n",
       "      <td>DAVIS</td>\n",
       "      <td>JENNIFER DAVIS</td>\n",
       "    </tr>\n",
       "    <tr>\n",
       "      <th>4</th>\n",
       "      <td>5</td>\n",
       "      <td>JOHNNY</td>\n",
       "      <td>LOLLOBRIGIDA</td>\n",
       "      <td>JOHNNY LOLLOBRIGIDA</td>\n",
       "    </tr>\n",
       "  </tbody>\n",
       "</table>\n",
       "</div>"
      ],
      "text/plain": [
       "   actor_id first_name     last_name        complete_name\n",
       "0         1   PENELOPE       GUINESS     PENELOPE GUINESS\n",
       "1         2       NICK      WAHLBERG        NICK WAHLBERG\n",
       "2         3         ED         CHASE             ED CHASE\n",
       "3         4   JENNIFER         DAVIS       JENNIFER DAVIS\n",
       "4         5     JOHNNY  LOLLOBRIGIDA  JOHNNY LOLLOBRIGIDA"
      ]
     },
     "execution_count": 33,
     "metadata": {},
     "output_type": "execute_result"
    }
   ],
   "source": [
    "df_act.head()"
   ]
  },
  {
   "cell_type": "code",
   "execution_count": 34,
   "id": "69c3753a",
   "metadata": {},
   "outputs": [],
   "source": [
    "df_cat_ori = pd.read_csv(r'C:\\Users\\david\\Proyectos\\w3-database-project\\data\\category.csv')"
   ]
  },
  {
   "cell_type": "code",
   "execution_count": 35,
   "id": "a8eacf24",
   "metadata": {},
   "outputs": [
    {
     "data": {
      "text/html": [
       "<div>\n",
       "<style scoped>\n",
       "    .dataframe tbody tr th:only-of-type {\n",
       "        vertical-align: middle;\n",
       "    }\n",
       "\n",
       "    .dataframe tbody tr th {\n",
       "        vertical-align: top;\n",
       "    }\n",
       "\n",
       "    .dataframe thead th {\n",
       "        text-align: right;\n",
       "    }\n",
       "</style>\n",
       "<table border=\"1\" class=\"dataframe\">\n",
       "  <thead>\n",
       "    <tr style=\"text-align: right;\">\n",
       "      <th></th>\n",
       "      <th>category_id</th>\n",
       "      <th>name</th>\n",
       "      <th>last_update</th>\n",
       "    </tr>\n",
       "  </thead>\n",
       "  <tbody>\n",
       "    <tr>\n",
       "      <th>0</th>\n",
       "      <td>1</td>\n",
       "      <td>Action</td>\n",
       "      <td>2006-02-15 04:46:27</td>\n",
       "    </tr>\n",
       "    <tr>\n",
       "      <th>1</th>\n",
       "      <td>2</td>\n",
       "      <td>Animation</td>\n",
       "      <td>2006-02-15 04:46:27</td>\n",
       "    </tr>\n",
       "    <tr>\n",
       "      <th>2</th>\n",
       "      <td>3</td>\n",
       "      <td>Children</td>\n",
       "      <td>2006-02-15 04:46:27</td>\n",
       "    </tr>\n",
       "    <tr>\n",
       "      <th>3</th>\n",
       "      <td>4</td>\n",
       "      <td>Classics</td>\n",
       "      <td>2006-02-15 04:46:27</td>\n",
       "    </tr>\n",
       "    <tr>\n",
       "      <th>4</th>\n",
       "      <td>5</td>\n",
       "      <td>Comedy</td>\n",
       "      <td>2006-02-15 04:46:27</td>\n",
       "    </tr>\n",
       "  </tbody>\n",
       "</table>\n",
       "</div>"
      ],
      "text/plain": [
       "   category_id       name          last_update\n",
       "0            1     Action  2006-02-15 04:46:27\n",
       "1            2  Animation  2006-02-15 04:46:27\n",
       "2            3   Children  2006-02-15 04:46:27\n",
       "3            4   Classics  2006-02-15 04:46:27\n",
       "4            5     Comedy  2006-02-15 04:46:27"
      ]
     },
     "execution_count": 35,
     "metadata": {},
     "output_type": "execute_result"
    }
   ],
   "source": [
    "df_cat_ori.head()"
   ]
  },
  {
   "cell_type": "code",
   "execution_count": 36,
   "id": "70f2429b",
   "metadata": {},
   "outputs": [],
   "source": [
    "df_cat=df_cat_ori.copy()"
   ]
  },
  {
   "cell_type": "code",
   "execution_count": 37,
   "id": "4adfc2e1",
   "metadata": {},
   "outputs": [
    {
     "data": {
      "text/plain": [
       "(16, 3)"
      ]
     },
     "execution_count": 37,
     "metadata": {},
     "output_type": "execute_result"
    }
   ],
   "source": [
    "df_cat.shape"
   ]
  },
  {
   "cell_type": "code",
   "execution_count": 38,
   "id": "86282b2c",
   "metadata": {},
   "outputs": [],
   "source": [
    "df_cat_dim_orig=df_cat.shape"
   ]
  },
  {
   "cell_type": "code",
   "execution_count": 39,
   "id": "279cb2b5",
   "metadata": {},
   "outputs": [
    {
     "name": "stdout",
     "output_type": "stream",
     "text": [
      "<class 'pandas.core.frame.DataFrame'>\n",
      "RangeIndex: 16 entries, 0 to 15\n",
      "Data columns (total 3 columns):\n",
      " #   Column       Non-Null Count  Dtype \n",
      "---  ------       --------------  ----- \n",
      " 0   category_id  16 non-null     int64 \n",
      " 1   name         16 non-null     object\n",
      " 2   last_update  16 non-null     object\n",
      "dtypes: int64(1), object(2)\n",
      "memory usage: 2.4 KB\n"
     ]
    }
   ],
   "source": [
    "df_cat.info(memory_usage='deep')"
   ]
  },
  {
   "cell_type": "code",
   "execution_count": 40,
   "id": "db24431c",
   "metadata": {},
   "outputs": [
    {
     "data": {
      "text/plain": [
       "Index(['category_id', 'name', 'last_update'], dtype='object')"
      ]
     },
     "execution_count": 40,
     "metadata": {},
     "output_type": "execute_result"
    }
   ],
   "source": [
    "df_cat.columns"
   ]
  },
  {
   "cell_type": "code",
   "execution_count": 41,
   "id": "48eb1136",
   "metadata": {},
   "outputs": [
    {
     "data": {
      "text/plain": [
       "True"
      ]
     },
     "execution_count": 41,
     "metadata": {},
     "output_type": "execute_result"
    }
   ],
   "source": [
    "df_cat.drop_duplicates().shape==df_cat.shape"
   ]
  },
  {
   "cell_type": "code",
   "execution_count": 42,
   "id": "5448ab84",
   "metadata": {},
   "outputs": [
    {
     "data": {
      "text/plain": [
       "array([ 1,  2,  3,  4,  5,  6,  7,  8,  9, 10, 11, 12, 13, 14, 15, 16],\n",
       "      dtype=int64)"
      ]
     },
     "execution_count": 42,
     "metadata": {},
     "output_type": "execute_result"
    }
   ],
   "source": [
    "df_cat.category_id.unique()"
   ]
  },
  {
   "cell_type": "code",
   "execution_count": 43,
   "id": "1a93c0f7",
   "metadata": {},
   "outputs": [
    {
     "data": {
      "text/plain": [
       "array(['Action', 'Animation', 'Children', 'Classics', 'Comedy',\n",
       "       'Documentary', 'Drama', 'Family', 'Foreign', 'Games', 'Horror',\n",
       "       'Music', 'New', 'Sci-Fi', 'Sports', 'Travel'], dtype=object)"
      ]
     },
     "execution_count": 43,
     "metadata": {},
     "output_type": "execute_result"
    }
   ],
   "source": [
    "df_cat.name.unique()"
   ]
  },
  {
   "cell_type": "code",
   "execution_count": 44,
   "id": "5e04d571",
   "metadata": {},
   "outputs": [
    {
     "data": {
      "text/plain": [
       "Action         1\n",
       "Animation      1\n",
       "Children       1\n",
       "Classics       1\n",
       "Comedy         1\n",
       "Documentary    1\n",
       "Drama          1\n",
       "Family         1\n",
       "Foreign        1\n",
       "Games          1\n",
       "Horror         1\n",
       "Music          1\n",
       "New            1\n",
       "Sci-Fi         1\n",
       "Sports         1\n",
       "Travel         1\n",
       "Name: name, dtype: int64"
      ]
     },
     "execution_count": 44,
     "metadata": {},
     "output_type": "execute_result"
    }
   ],
   "source": [
    "df_cat.name.value_counts()"
   ]
  },
  {
   "cell_type": "code",
   "execution_count": 45,
   "id": "8bf99cd2",
   "metadata": {},
   "outputs": [
    {
     "data": {
      "text/plain": [
       "array(['2006-02-15 04:46:27'], dtype=object)"
      ]
     },
     "execution_count": 45,
     "metadata": {},
     "output_type": "execute_result"
    }
   ],
   "source": [
    "df_cat.last_update.unique()"
   ]
  },
  {
   "cell_type": "code",
   "execution_count": 46,
   "id": "710b264a",
   "metadata": {},
   "outputs": [],
   "source": [
    "df_cat.drop(['last_update'], axis=1, inplace = True)"
   ]
  },
  {
   "cell_type": "code",
   "execution_count": 47,
   "id": "f06983e8",
   "metadata": {},
   "outputs": [
    {
     "data": {
      "text/html": [
       "<div>\n",
       "<style scoped>\n",
       "    .dataframe tbody tr th:only-of-type {\n",
       "        vertical-align: middle;\n",
       "    }\n",
       "\n",
       "    .dataframe tbody tr th {\n",
       "        vertical-align: top;\n",
       "    }\n",
       "\n",
       "    .dataframe thead th {\n",
       "        text-align: right;\n",
       "    }\n",
       "</style>\n",
       "<table border=\"1\" class=\"dataframe\">\n",
       "  <thead>\n",
       "    <tr style=\"text-align: right;\">\n",
       "      <th></th>\n",
       "      <th>category_id</th>\n",
       "      <th>name</th>\n",
       "    </tr>\n",
       "  </thead>\n",
       "  <tbody>\n",
       "    <tr>\n",
       "      <th>0</th>\n",
       "      <td>1</td>\n",
       "      <td>Action</td>\n",
       "    </tr>\n",
       "    <tr>\n",
       "      <th>1</th>\n",
       "      <td>2</td>\n",
       "      <td>Animation</td>\n",
       "    </tr>\n",
       "    <tr>\n",
       "      <th>2</th>\n",
       "      <td>3</td>\n",
       "      <td>Children</td>\n",
       "    </tr>\n",
       "    <tr>\n",
       "      <th>3</th>\n",
       "      <td>4</td>\n",
       "      <td>Classics</td>\n",
       "    </tr>\n",
       "    <tr>\n",
       "      <th>4</th>\n",
       "      <td>5</td>\n",
       "      <td>Comedy</td>\n",
       "    </tr>\n",
       "  </tbody>\n",
       "</table>\n",
       "</div>"
      ],
      "text/plain": [
       "   category_id       name\n",
       "0            1     Action\n",
       "1            2  Animation\n",
       "2            3   Children\n",
       "3            4   Classics\n",
       "4            5     Comedy"
      ]
     },
     "execution_count": 47,
     "metadata": {},
     "output_type": "execute_result"
    }
   ],
   "source": [
    "df_cat.head()"
   ]
  },
  {
   "cell_type": "code",
   "execution_count": null,
   "id": "263d34b4",
   "metadata": {},
   "outputs": [],
   "source": []
  },
  {
   "cell_type": "code",
   "execution_count": null,
   "id": "32fffde1",
   "metadata": {},
   "outputs": [],
   "source": []
  }
 ],
 "metadata": {
  "kernelspec": {
   "display_name": "clase",
   "language": "python",
   "name": "clase"
  },
  "language_info": {
   "codemirror_mode": {
    "name": "ipython",
    "version": 3
   },
   "file_extension": ".py",
   "mimetype": "text/x-python",
   "name": "python",
   "nbconvert_exporter": "python",
   "pygments_lexer": "ipython3",
   "version": "3.7.13"
  }
 },
 "nbformat": 4,
 "nbformat_minor": 5
}
